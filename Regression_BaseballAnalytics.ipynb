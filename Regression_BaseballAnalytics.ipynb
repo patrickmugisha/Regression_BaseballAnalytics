{
 "cells": [
  {
   "cell_type": "markdown",
   "metadata": {},
   "source": [
    "# Baseball Analytics & HR Analytics"
   ]
  },
  {
   "cell_type": "code",
   "execution_count": 1,
   "metadata": {
    "ExecuteTime": {
     "end_time": "2019-05-06T17:14:58.421267Z",
     "start_time": "2019-05-06T17:14:57.676999Z"
    }
   },
   "outputs": [
    {
     "data": {
      "image/jpeg": "[encoded data removed]",
      "text/html": [
       "\n",
       "        <iframe\n",
       "            width=\"400\"\n",
       "            height=\"300\"\n",
       "            src=\"https://www.youtube.com/embed/pWgyy_rlmag\"\n",
       "            frameborder=\"0\"\n",
       "            allowfullscreen\n",
       "        ></iframe>\n",
       "        "
      ],
      "text/plain": [
       "<IPython.lib.display.YouTubeVideo at 0x21f13535a60>"
      ]
     },
     "execution_count": 1,
     "metadata": {},
     "output_type": "execute_result"
    }
   ],
   "source": [
    "from IPython.display import YouTubeVideo\n",
    "YouTubeVideo('pWgyy_rlmag')"
   ]
  },
  {
   "cell_type": "markdown",
   "metadata": {},
   "source": [
    "**Sabermetrics** is the apllication of statistical analysis to baseball data in order to measure in-game activity. The term Sabermetrics comes from saber (Society for American Baseball Research) and metrics (as in econometrics).\n",
    "\n",
    "In 2003, Michael Lewis published Moneyball about **Billy Beane**, the **Oakland Athletics General Manager** since 1997. The book was centered around **Billy Beane's use of Sabemetrics to identify and recruit under-valued baseball players**. With this strategy, his team could achieve as many wins as teams with more than double the payroll. The figures below show the relationship between team salaries and number of wins for years: 1997, 2001, 2003, 2013. The green dot represents the Oakland Athletics, the blue dot represents the New York Yankees, and the red dot represents The Boston Red Sox. We can see that the **Oakland Athletics went from the underperforming team in 1997, to became a highly competitive team with a comparable number of wins to the New York Yankees. The Oakland Athletics made it to the play-offs in 4 successive years: 2000,2001,2002,2003**.\n",
    "\n",
    "Source: http://adilmoujahid.com/posts/2014/07/baseball-analytics/ (reproduced from this page)"
   ]
  },
  {
   "cell_type": "code",
   "execution_count": 2,
   "metadata": {
    "ExecuteTime": {
     "end_time": "2019-05-06T17:14:58.431266Z",
     "start_time": "2019-05-06T17:14:58.424268Z"
    }
   },
   "outputs": [
    {
     "data": {
      "text/html": [
       "<img src=\"http://adilmoujahid.com/images/fig2.jpg\"/>"
      ],
      "text/plain": [
       "<IPython.core.display.Image object>"
      ]
     },
     "execution_count": 2,
     "metadata": {},
     "output_type": "execute_result"
    }
   ],
   "source": [
    "from IPython.display import Image\n",
    "from IPython.core.display import HTML \n",
    "Image(url= \"http://adilmoujahid.com/images/fig1.jpg\")\n",
    "Image(url= \"http://adilmoujahid.com/images/fig2.jpg\")"
   ]
  },
  {
   "cell_type": "code",
   "execution_count": 4,
   "metadata": {
    "ExecuteTime": {
     "end_time": "2019-05-06T17:15:19.774684Z",
     "start_time": "2019-05-06T17:14:58.656266Z"
    }
   },
   "outputs": [],
   "source": [
    "import pandas as pd\n",
    "import numpy as np\n",
    "import seaborn as sns\n",
    "import matplotlib.pyplot as plt\n",
    "%matplotlib inline\n",
    "\n",
    "#regression packages (machine learning)\n",
    "import sklearn.linear_model as lm\n",
    "\n",
    "#for model evaluation\n",
    "from sklearn.metrics import mean_squared_error\n",
    "from sklearn.metrics import explained_variance_score\n",
    "\n",
    "#regression (statistics)\n",
    "import statsmodels.api as sm\n",
    "from statsmodels.formula.api import ols\n",
    "\n",
    "#ignore warning\n",
    "import warnings\n",
    "warnings.filterwarnings(\"ignore\")"
   ]
  },
  {
   "cell_type": "code",
   "execution_count": 5,
   "metadata": {
    "ExecuteTime": {
     "end_time": "2019-05-06T17:15:19.816682Z",
     "start_time": "2019-05-06T17:15:19.777682Z"
    }
   },
   "outputs": [
    {
     "data": {
      "text/html": [
       "<div>\n",
       "<style scoped>\n",
       "    .dataframe tbody tr th:only-of-type {\n",
       "        vertical-align: middle;\n",
       "    }\n",
       "\n",
       "    .dataframe tbody tr th {\n",
       "        vertical-align: top;\n",
       "    }\n",
       "\n",
       "    .dataframe thead th {\n",
       "        text-align: right;\n",
       "    }\n",
       "</style>\n",
       "<table border=\"1\" class=\"dataframe\">\n",
       "  <thead>\n",
       "    <tr style=\"text-align: right;\">\n",
       "      <th></th>\n",
       "      <th>yearID</th>\n",
       "      <th>teamID</th>\n",
       "      <th>Rank</th>\n",
       "      <th>R</th>\n",
       "      <th>RA</th>\n",
       "      <th>G</th>\n",
       "      <th>W</th>\n",
       "      <th>H</th>\n",
       "      <th>BB</th>\n",
       "      <th>HBP</th>\n",
       "      <th>AB</th>\n",
       "      <th>SF</th>\n",
       "      <th>HR</th>\n",
       "      <th>2B</th>\n",
       "      <th>3B</th>\n",
       "      <th>salary</th>\n",
       "      <th>BA</th>\n",
       "      <th>OBP</th>\n",
       "      <th>SLG</th>\n",
       "    </tr>\n",
       "  </thead>\n",
       "  <tbody>\n",
       "    <tr>\n",
       "      <th>0</th>\n",
       "      <td>2000</td>\n",
       "      <td>CHA</td>\n",
       "      <td>1</td>\n",
       "      <td>978</td>\n",
       "      <td>839</td>\n",
       "      <td>162</td>\n",
       "      <td>95</td>\n",
       "      <td>1615</td>\n",
       "      <td>591</td>\n",
       "      <td>53</td>\n",
       "      <td>5646</td>\n",
       "      <td>61</td>\n",
       "      <td>216</td>\n",
       "      <td>325</td>\n",
       "      <td>33</td>\n",
       "      <td>31133500</td>\n",
       "      <td>0.286043</td>\n",
       "      <td>0.355692</td>\n",
       "      <td>0.470067</td>\n",
       "    </tr>\n",
       "    <tr>\n",
       "      <th>1</th>\n",
       "      <td>2000</td>\n",
       "      <td>CLE</td>\n",
       "      <td>2</td>\n",
       "      <td>950</td>\n",
       "      <td>816</td>\n",
       "      <td>162</td>\n",
       "      <td>90</td>\n",
       "      <td>1639</td>\n",
       "      <td>685</td>\n",
       "      <td>51</td>\n",
       "      <td>5683</td>\n",
       "      <td>52</td>\n",
       "      <td>221</td>\n",
       "      <td>310</td>\n",
       "      <td>30</td>\n",
       "      <td>75880771</td>\n",
       "      <td>0.288404</td>\n",
       "      <td>0.367022</td>\n",
       "      <td>0.470174</td>\n",
       "    </tr>\n",
       "    <tr>\n",
       "      <th>2</th>\n",
       "      <td>2000</td>\n",
       "      <td>DET</td>\n",
       "      <td>3</td>\n",
       "      <td>823</td>\n",
       "      <td>827</td>\n",
       "      <td>162</td>\n",
       "      <td>79</td>\n",
       "      <td>1553</td>\n",
       "      <td>562</td>\n",
       "      <td>43</td>\n",
       "      <td>5644</td>\n",
       "      <td>49</td>\n",
       "      <td>177</td>\n",
       "      <td>307</td>\n",
       "      <td>41</td>\n",
       "      <td>58265167</td>\n",
       "      <td>0.275159</td>\n",
       "      <td>0.342648</td>\n",
       "      <td>0.438164</td>\n",
       "    </tr>\n",
       "    <tr>\n",
       "      <th>3</th>\n",
       "      <td>2000</td>\n",
       "      <td>KCA</td>\n",
       "      <td>4</td>\n",
       "      <td>879</td>\n",
       "      <td>930</td>\n",
       "      <td>162</td>\n",
       "      <td>77</td>\n",
       "      <td>1644</td>\n",
       "      <td>511</td>\n",
       "      <td>48</td>\n",
       "      <td>5709</td>\n",
       "      <td>70</td>\n",
       "      <td>150</td>\n",
       "      <td>281</td>\n",
       "      <td>27</td>\n",
       "      <td>23433000</td>\n",
       "      <td>0.287966</td>\n",
       "      <td>0.347586</td>\n",
       "      <td>0.425469</td>\n",
       "    </tr>\n",
       "    <tr>\n",
       "      <th>4</th>\n",
       "      <td>2000</td>\n",
       "      <td>MIN</td>\n",
       "      <td>5</td>\n",
       "      <td>748</td>\n",
       "      <td>880</td>\n",
       "      <td>162</td>\n",
       "      <td>69</td>\n",
       "      <td>1516</td>\n",
       "      <td>556</td>\n",
       "      <td>35</td>\n",
       "      <td>5615</td>\n",
       "      <td>51</td>\n",
       "      <td>116</td>\n",
       "      <td>325</td>\n",
       "      <td>49</td>\n",
       "      <td>16519500</td>\n",
       "      <td>0.269991</td>\n",
       "      <td>0.336743</td>\n",
       "      <td>0.407302</td>\n",
       "    </tr>\n",
       "  </tbody>\n",
       "</table>\n",
       "</div>"
      ],
      "text/plain": [
       "   yearID teamID  Rank    R   RA    G   W     H   BB  HBP    AB  SF   HR   2B  \\\n",
       "0    2000    CHA     1  978  839  162  95  1615  591   53  5646  61  216  325   \n",
       "1    2000    CLE     2  950  816  162  90  1639  685   51  5683  52  221  310   \n",
       "2    2000    DET     3  823  827  162  79  1553  562   43  5644  49  177  307   \n",
       "3    2000    KCA     4  879  930  162  77  1644  511   48  5709  70  150  281   \n",
       "4    2000    MIN     5  748  880  162  69  1516  556   35  5615  51  116  325   \n",
       "\n",
       "   3B    salary        BA       OBP       SLG  \n",
       "0  33  31133500  0.286043  0.355692  0.470067  \n",
       "1  30  75880771  0.288404  0.367022  0.470174  \n",
       "2  41  58265167  0.275159  0.342648  0.438164  \n",
       "3  27  23433000  0.287966  0.347586  0.425469  \n",
       "4  49  16519500  0.269991  0.336743  0.407302  "
      ]
     },
     "execution_count": 5,
     "metadata": {},
     "output_type": "execute_result"
    }
   ],
   "source": [
    "teams = pd.read_csv(\"data/baseball.csv\")\n",
    "teams.head()"
   ]
  },
  {
   "cell_type": "raw",
   "metadata": {},
   "source": [
    "Below is an explanation of the teams DataFrame attribtues.\n",
    "\n",
    "yearID: Year\n",
    "teamID: Team\n",
    "Rank: Position in final standings\n",
    "R: Runs scored (this is your y or dependent variable) \n",
    "RA: Opponents runs scored\n",
    "G: Games played\n",
    "W: Wins\n",
    "H: Hits by batters\n",
    "BB: Walks by batters\n",
    "HBP: Batters hit by pitch\n",
    "AB: At bats\n",
    "SF: Sacrifice flies\n",
    "HR: Homeruns by batters\n",
    "2B: Doubles\n",
    "3B: Triples\n",
    "Batting Average (BA) = H/AB    \n",
    "On Base Percentage (OBP) = (H+BB+HBP)/(AB+BB+HBP+SF)\n",
    "Slugging Percentage (SLG) = H+2B+(2*3B)+(3*HR)/AB"
   ]
  },
  {
   "cell_type": "markdown",
   "metadata": {},
   "source": [
    "On Base Percentage (OBP, On Base Average, OBA) is a measure of how often a batter reaches base. \n",
    "\n",
    "The full formula is OBP = (Hits + Walks + Hit by Pitch) / (At Bats + Walks + Hit by Pitch + Sacrifice Flies). Batters are not credited with reaching base on an error or fielder's choice, and they are not charged with an opportunity if they make a sacrifice bunt.\n",
    "\n",
    "All Time Leaders\n",
    "Ted Williams\t.482\t(career)\n",
    "Barry Bonds\t    .609\t(2004 season)\n",
    "\n",
    "http://www.baseball-reference.com/bullpen/On_base_percentage"
   ]
  },
  {
   "cell_type": "markdown",
   "metadata": {},
   "source": [
    "# Exploratory Data Analysis "
   ]
  },
  {
   "cell_type": "code",
   "execution_count": 6,
   "metadata": {
    "ExecuteTime": {
     "end_time": "2019-05-06T17:15:19.849682Z",
     "start_time": "2019-05-06T17:15:19.818686Z"
    }
   },
   "outputs": [
    {
     "data": {
      "text/html": [
       "<div>\n",
       "<style scoped>\n",
       "    .dataframe tbody tr th:only-of-type {\n",
       "        vertical-align: middle;\n",
       "    }\n",
       "\n",
       "    .dataframe tbody tr th {\n",
       "        vertical-align: top;\n",
       "    }\n",
       "\n",
       "    .dataframe thead th {\n",
       "        text-align: right;\n",
       "    }\n",
       "</style>\n",
       "<table border=\"1\" class=\"dataframe\">\n",
       "  <thead>\n",
       "    <tr style=\"text-align: right;\">\n",
       "      <th></th>\n",
       "      <th>yearID</th>\n",
       "      <th>Rank</th>\n",
       "      <th>R</th>\n",
       "      <th>RA</th>\n",
       "      <th>G</th>\n",
       "      <th>W</th>\n",
       "      <th>H</th>\n",
       "      <th>BB</th>\n",
       "      <th>HBP</th>\n",
       "      <th>AB</th>\n",
       "      <th>SF</th>\n",
       "      <th>HR</th>\n",
       "      <th>2B</th>\n",
       "      <th>3B</th>\n",
       "      <th>salary</th>\n",
       "      <th>BA</th>\n",
       "      <th>OBP</th>\n",
       "      <th>SLG</th>\n",
       "    </tr>\n",
       "  </thead>\n",
       "  <tbody>\n",
       "    <tr>\n",
       "      <th>yearID</th>\n",
       "      <td>1.000000</td>\n",
       "      <td>-0.000202</td>\n",
       "      <td>-0.408178</td>\n",
       "      <td>-0.391801</td>\n",
       "      <td>0.120592</td>\n",
       "      <td>0.002798</td>\n",
       "      <td>-0.309967</td>\n",
       "      <td>-0.274937</td>\n",
       "      <td>-0.226799</td>\n",
       "      <td>-0.154202</td>\n",
       "      <td>-0.245968</td>\n",
       "      <td>-0.272492</td>\n",
       "      <td>-0.219384</td>\n",
       "      <td>-0.094005</td>\n",
       "      <td>0.360808</td>\n",
       "      <td>-0.339005</td>\n",
       "      <td>-0.410184</td>\n",
       "      <td>-0.378158</td>\n",
       "    </tr>\n",
       "    <tr>\n",
       "      <th>Rank</th>\n",
       "      <td>-0.000202</td>\n",
       "      <td>1.000000</td>\n",
       "      <td>-0.474251</td>\n",
       "      <td>0.564920</td>\n",
       "      <td>-0.077022</td>\n",
       "      <td>-0.886474</td>\n",
       "      <td>-0.320440</td>\n",
       "      <td>-0.379702</td>\n",
       "      <td>-0.091782</td>\n",
       "      <td>-0.155763</td>\n",
       "      <td>-0.255092</td>\n",
       "      <td>-0.362639</td>\n",
       "      <td>-0.173265</td>\n",
       "      <td>0.045748</td>\n",
       "      <td>-0.308308</td>\n",
       "      <td>-0.351519</td>\n",
       "      <td>-0.461332</td>\n",
       "      <td>-0.420698</td>\n",
       "    </tr>\n",
       "    <tr>\n",
       "      <th>R</th>\n",
       "      <td>-0.408178</td>\n",
       "      <td>-0.474251</td>\n",
       "      <td>1.000000</td>\n",
       "      <td>0.205996</td>\n",
       "      <td>0.104248</td>\n",
       "      <td>0.549933</td>\n",
       "      <td>0.806592</td>\n",
       "      <td>0.585743</td>\n",
       "      <td>0.247722</td>\n",
       "      <td>0.614868</td>\n",
       "      <td>0.500949</td>\n",
       "      <td>0.700291</td>\n",
       "      <td>0.589721</td>\n",
       "      <td>0.107528</td>\n",
       "      <td>0.133647</td>\n",
       "      <td>0.811295</td>\n",
       "      <td>0.898274</td>\n",
       "      <td>0.915136</td>\n",
       "    </tr>\n",
       "    <tr>\n",
       "      <th>RA</th>\n",
       "      <td>-0.391801</td>\n",
       "      <td>0.564920</td>\n",
       "      <td>0.205996</td>\n",
       "      <td>1.000000</td>\n",
       "      <td>-0.017510</td>\n",
       "      <td>-0.632394</td>\n",
       "      <td>0.245639</td>\n",
       "      <td>0.003734</td>\n",
       "      <td>0.083455</td>\n",
       "      <td>0.273560</td>\n",
       "      <td>0.063746</td>\n",
       "      <td>0.149423</td>\n",
       "      <td>0.189500</td>\n",
       "      <td>0.101037</td>\n",
       "      <td>-0.313821</td>\n",
       "      <td>0.219393</td>\n",
       "      <td>0.156759</td>\n",
       "      <td>0.224955</td>\n",
       "    </tr>\n",
       "    <tr>\n",
       "      <th>G</th>\n",
       "      <td>0.120592</td>\n",
       "      <td>-0.077022</td>\n",
       "      <td>0.104248</td>\n",
       "      <td>-0.017510</td>\n",
       "      <td>1.000000</td>\n",
       "      <td>0.091498</td>\n",
       "      <td>0.116129</td>\n",
       "      <td>0.032035</td>\n",
       "      <td>-0.035818</td>\n",
       "      <td>0.198990</td>\n",
       "      <td>0.096895</td>\n",
       "      <td>0.080860</td>\n",
       "      <td>0.052023</td>\n",
       "      <td>0.015406</td>\n",
       "      <td>0.057450</td>\n",
       "      <td>0.082268</td>\n",
       "      <td>0.060409</td>\n",
       "      <td>0.088257</td>\n",
       "    </tr>\n",
       "    <tr>\n",
       "      <th>W</th>\n",
       "      <td>0.002798</td>\n",
       "      <td>-0.886474</td>\n",
       "      <td>0.549933</td>\n",
       "      <td>-0.632394</td>\n",
       "      <td>0.091498</td>\n",
       "      <td>1.000000</td>\n",
       "      <td>0.373127</td>\n",
       "      <td>0.423453</td>\n",
       "      <td>0.123263</td>\n",
       "      <td>0.187078</td>\n",
       "      <td>0.306111</td>\n",
       "      <td>0.416846</td>\n",
       "      <td>0.240574</td>\n",
       "      <td>-0.052721</td>\n",
       "      <td>0.359079</td>\n",
       "      <td>0.406908</td>\n",
       "      <td>0.526369</td>\n",
       "      <td>0.491474</td>\n",
       "    </tr>\n",
       "    <tr>\n",
       "      <th>H</th>\n",
       "      <td>-0.309967</td>\n",
       "      <td>-0.320440</td>\n",
       "      <td>0.806592</td>\n",
       "      <td>0.245639</td>\n",
       "      <td>0.116129</td>\n",
       "      <td>0.373127</td>\n",
       "      <td>1.000000</td>\n",
       "      <td>0.232830</td>\n",
       "      <td>0.083284</td>\n",
       "      <td>0.830452</td>\n",
       "      <td>0.497462</td>\n",
       "      <td>0.365363</td>\n",
       "      <td>0.607476</td>\n",
       "      <td>0.169893</td>\n",
       "      <td>0.159304</td>\n",
       "      <td>0.984048</td>\n",
       "      <td>0.809390</td>\n",
       "      <td>0.756042</td>\n",
       "    </tr>\n",
       "    <tr>\n",
       "      <th>BB</th>\n",
       "      <td>-0.274937</td>\n",
       "      <td>-0.379702</td>\n",
       "      <td>0.585743</td>\n",
       "      <td>0.003734</td>\n",
       "      <td>0.032035</td>\n",
       "      <td>0.423453</td>\n",
       "      <td>0.232830</td>\n",
       "      <td>1.000000</td>\n",
       "      <td>0.139443</td>\n",
       "      <td>0.115175</td>\n",
       "      <td>0.288142</td>\n",
       "      <td>0.424138</td>\n",
       "      <td>0.288112</td>\n",
       "      <td>-0.028190</td>\n",
       "      <td>0.085966</td>\n",
       "      <td>0.254640</td>\n",
       "      <td>0.726429</td>\n",
       "      <td>0.445555</td>\n",
       "    </tr>\n",
       "    <tr>\n",
       "      <th>HBP</th>\n",
       "      <td>-0.226799</td>\n",
       "      <td>-0.091782</td>\n",
       "      <td>0.247722</td>\n",
       "      <td>0.083455</td>\n",
       "      <td>-0.035818</td>\n",
       "      <td>0.123263</td>\n",
       "      <td>0.083284</td>\n",
       "      <td>0.139443</td>\n",
       "      <td>1.000000</td>\n",
       "      <td>0.042850</td>\n",
       "      <td>0.033716</td>\n",
       "      <td>0.266033</td>\n",
       "      <td>0.128028</td>\n",
       "      <td>-0.077730</td>\n",
       "      <td>-0.030119</td>\n",
       "      <td>0.091199</td>\n",
       "      <td>0.243492</td>\n",
       "      <td>0.233884</td>\n",
       "    </tr>\n",
       "    <tr>\n",
       "      <th>AB</th>\n",
       "      <td>-0.154202</td>\n",
       "      <td>-0.155763</td>\n",
       "      <td>0.614868</td>\n",
       "      <td>0.273560</td>\n",
       "      <td>0.198990</td>\n",
       "      <td>0.187078</td>\n",
       "      <td>0.830452</td>\n",
       "      <td>0.115175</td>\n",
       "      <td>0.042850</td>\n",
       "      <td>1.000000</td>\n",
       "      <td>0.290398</td>\n",
       "      <td>0.331565</td>\n",
       "      <td>0.540807</td>\n",
       "      <td>0.077190</td>\n",
       "      <td>0.124605</td>\n",
       "      <td>0.718483</td>\n",
       "      <td>0.537595</td>\n",
       "      <td>0.575732</td>\n",
       "    </tr>\n",
       "    <tr>\n",
       "      <th>SF</th>\n",
       "      <td>-0.245968</td>\n",
       "      <td>-0.255092</td>\n",
       "      <td>0.500949</td>\n",
       "      <td>0.063746</td>\n",
       "      <td>0.096895</td>\n",
       "      <td>0.306111</td>\n",
       "      <td>0.497462</td>\n",
       "      <td>0.288142</td>\n",
       "      <td>0.033716</td>\n",
       "      <td>0.290398</td>\n",
       "      <td>1.000000</td>\n",
       "      <td>0.117298</td>\n",
       "      <td>0.336396</td>\n",
       "      <td>0.198126</td>\n",
       "      <td>-0.013011</td>\n",
       "      <td>0.528170</td>\n",
       "      <td>0.506127</td>\n",
       "      <td>0.380213</td>\n",
       "    </tr>\n",
       "    <tr>\n",
       "      <th>HR</th>\n",
       "      <td>-0.272492</td>\n",
       "      <td>-0.362639</td>\n",
       "      <td>0.700291</td>\n",
       "      <td>0.149423</td>\n",
       "      <td>0.080860</td>\n",
       "      <td>0.416846</td>\n",
       "      <td>0.365363</td>\n",
       "      <td>0.424138</td>\n",
       "      <td>0.266033</td>\n",
       "      <td>0.331565</td>\n",
       "      <td>0.117298</td>\n",
       "      <td>1.000000</td>\n",
       "      <td>0.286536</td>\n",
       "      <td>-0.169378</td>\n",
       "      <td>0.138873</td>\n",
       "      <td>0.351788</td>\n",
       "      <td>0.496110</td>\n",
       "      <td>0.847711</td>\n",
       "    </tr>\n",
       "    <tr>\n",
       "      <th>2B</th>\n",
       "      <td>-0.219384</td>\n",
       "      <td>-0.173265</td>\n",
       "      <td>0.589721</td>\n",
       "      <td>0.189500</td>\n",
       "      <td>0.052023</td>\n",
       "      <td>0.240574</td>\n",
       "      <td>0.607476</td>\n",
       "      <td>0.288112</td>\n",
       "      <td>0.128028</td>\n",
       "      <td>0.540807</td>\n",
       "      <td>0.336396</td>\n",
       "      <td>0.286536</td>\n",
       "      <td>1.000000</td>\n",
       "      <td>0.088687</td>\n",
       "      <td>-0.022469</td>\n",
       "      <td>0.586448</td>\n",
       "      <td>0.567023</td>\n",
       "      <td>0.611347</td>\n",
       "    </tr>\n",
       "    <tr>\n",
       "      <th>3B</th>\n",
       "      <td>-0.094005</td>\n",
       "      <td>0.045748</td>\n",
       "      <td>0.107528</td>\n",
       "      <td>0.101037</td>\n",
       "      <td>0.015406</td>\n",
       "      <td>-0.052721</td>\n",
       "      <td>0.169893</td>\n",
       "      <td>-0.028190</td>\n",
       "      <td>-0.077730</td>\n",
       "      <td>0.077190</td>\n",
       "      <td>0.198126</td>\n",
       "      <td>-0.169378</td>\n",
       "      <td>0.088687</td>\n",
       "      <td>1.000000</td>\n",
       "      <td>-0.178498</td>\n",
       "      <td>0.186975</td>\n",
       "      <td>0.107901</td>\n",
       "      <td>0.098401</td>\n",
       "    </tr>\n",
       "    <tr>\n",
       "      <th>salary</th>\n",
       "      <td>0.360808</td>\n",
       "      <td>-0.308308</td>\n",
       "      <td>0.133647</td>\n",
       "      <td>-0.313821</td>\n",
       "      <td>0.057450</td>\n",
       "      <td>0.359079</td>\n",
       "      <td>0.159304</td>\n",
       "      <td>0.085966</td>\n",
       "      <td>-0.030119</td>\n",
       "      <td>0.124605</td>\n",
       "      <td>-0.013011</td>\n",
       "      <td>0.138873</td>\n",
       "      <td>-0.022469</td>\n",
       "      <td>-0.178498</td>\n",
       "      <td>1.000000</td>\n",
       "      <td>0.159053</td>\n",
       "      <td>0.151975</td>\n",
       "      <td>0.129116</td>\n",
       "    </tr>\n",
       "    <tr>\n",
       "      <th>BA</th>\n",
       "      <td>-0.339005</td>\n",
       "      <td>-0.351519</td>\n",
       "      <td>0.811295</td>\n",
       "      <td>0.219393</td>\n",
       "      <td>0.082268</td>\n",
       "      <td>0.406908</td>\n",
       "      <td>0.984048</td>\n",
       "      <td>0.254640</td>\n",
       "      <td>0.091199</td>\n",
       "      <td>0.718483</td>\n",
       "      <td>0.528170</td>\n",
       "      <td>0.351788</td>\n",
       "      <td>0.586448</td>\n",
       "      <td>0.186975</td>\n",
       "      <td>0.159053</td>\n",
       "      <td>1.000000</td>\n",
       "      <td>0.839978</td>\n",
       "      <td>0.761572</td>\n",
       "    </tr>\n",
       "    <tr>\n",
       "      <th>OBP</th>\n",
       "      <td>-0.410184</td>\n",
       "      <td>-0.461332</td>\n",
       "      <td>0.898274</td>\n",
       "      <td>0.156759</td>\n",
       "      <td>0.060409</td>\n",
       "      <td>0.526369</td>\n",
       "      <td>0.809390</td>\n",
       "      <td>0.726429</td>\n",
       "      <td>0.243492</td>\n",
       "      <td>0.537595</td>\n",
       "      <td>0.506127</td>\n",
       "      <td>0.496110</td>\n",
       "      <td>0.567023</td>\n",
       "      <td>0.107901</td>\n",
       "      <td>0.151975</td>\n",
       "      <td>0.839978</td>\n",
       "      <td>1.000000</td>\n",
       "      <td>0.790667</td>\n",
       "    </tr>\n",
       "    <tr>\n",
       "      <th>SLG</th>\n",
       "      <td>-0.378158</td>\n",
       "      <td>-0.420698</td>\n",
       "      <td>0.915136</td>\n",
       "      <td>0.224955</td>\n",
       "      <td>0.088257</td>\n",
       "      <td>0.491474</td>\n",
       "      <td>0.756042</td>\n",
       "      <td>0.445555</td>\n",
       "      <td>0.233884</td>\n",
       "      <td>0.575732</td>\n",
       "      <td>0.380213</td>\n",
       "      <td>0.847711</td>\n",
       "      <td>0.611347</td>\n",
       "      <td>0.098401</td>\n",
       "      <td>0.129116</td>\n",
       "      <td>0.761572</td>\n",
       "      <td>0.790667</td>\n",
       "      <td>1.000000</td>\n",
       "    </tr>\n",
       "  </tbody>\n",
       "</table>\n",
       "</div>"
      ],
      "text/plain": [
       "          yearID      Rank         R        RA         G         W         H  \\\n",
       "yearID  1.000000 -0.000202 -0.408178 -0.391801  0.120592  0.002798 -0.309967   \n",
       "Rank   -0.000202  1.000000 -0.474251  0.564920 -0.077022 -0.886474 -0.320440   \n",
       "R      -0.408178 -0.474251  1.000000  0.205996  0.104248  0.549933  0.806592   \n",
       "RA     -0.391801  0.564920  0.205996  1.000000 -0.017510 -0.632394  0.245639   \n",
       "G       0.120592 -0.077022  0.104248 -0.017510  1.000000  0.091498  0.116129   \n",
       "W       0.002798 -0.886474  0.549933 -0.632394  0.091498  1.000000  0.373127   \n",
       "H      -0.309967 -0.320440  0.806592  0.245639  0.116129  0.373127  1.000000   \n",
       "BB     -0.274937 -0.379702  0.585743  0.003734  0.032035  0.423453  0.232830   \n",
       "HBP    -0.226799 -0.091782  0.247722  0.083455 -0.035818  0.123263  0.083284   \n",
       "AB     -0.154202 -0.155763  0.614868  0.273560  0.198990  0.187078  0.830452   \n",
       "SF     -0.245968 -0.255092  0.500949  0.063746  0.096895  0.306111  0.497462   \n",
       "HR     -0.272492 -0.362639  0.700291  0.149423  0.080860  0.416846  0.365363   \n",
       "2B     -0.219384 -0.173265  0.589721  0.189500  0.052023  0.240574  0.607476   \n",
       "3B     -0.094005  0.045748  0.107528  0.101037  0.015406 -0.052721  0.169893   \n",
       "salary  0.360808 -0.308308  0.133647 -0.313821  0.057450  0.359079  0.159304   \n",
       "BA     -0.339005 -0.351519  0.811295  0.219393  0.082268  0.406908  0.984048   \n",
       "OBP    -0.410184 -0.461332  0.898274  0.156759  0.060409  0.526369  0.809390   \n",
       "SLG    -0.378158 -0.420698  0.915136  0.224955  0.088257  0.491474  0.756042   \n",
       "\n",
       "              BB       HBP        AB        SF        HR        2B        3B  \\\n",
       "yearID -0.274937 -0.226799 -0.154202 -0.245968 -0.272492 -0.219384 -0.094005   \n",
       "Rank   -0.379702 -0.091782 -0.155763 -0.255092 -0.362639 -0.173265  0.045748   \n",
       "R       0.585743  0.247722  0.614868  0.500949  0.700291  0.589721  0.107528   \n",
       "RA      0.003734  0.083455  0.273560  0.063746  0.149423  0.189500  0.101037   \n",
       "G       0.032035 -0.035818  0.198990  0.096895  0.080860  0.052023  0.015406   \n",
       "W       0.423453  0.123263  0.187078  0.306111  0.416846  0.240574 -0.052721   \n",
       "H       0.232830  0.083284  0.830452  0.497462  0.365363  0.607476  0.169893   \n",
       "BB      1.000000  0.139443  0.115175  0.288142  0.424138  0.288112 -0.028190   \n",
       "HBP     0.139443  1.000000  0.042850  0.033716  0.266033  0.128028 -0.077730   \n",
       "AB      0.115175  0.042850  1.000000  0.290398  0.331565  0.540807  0.077190   \n",
       "SF      0.288142  0.033716  0.290398  1.000000  0.117298  0.336396  0.198126   \n",
       "HR      0.424138  0.266033  0.331565  0.117298  1.000000  0.286536 -0.169378   \n",
       "2B      0.288112  0.128028  0.540807  0.336396  0.286536  1.000000  0.088687   \n",
       "3B     -0.028190 -0.077730  0.077190  0.198126 -0.169378  0.088687  1.000000   \n",
       "salary  0.085966 -0.030119  0.124605 -0.013011  0.138873 -0.022469 -0.178498   \n",
       "BA      0.254640  0.091199  0.718483  0.528170  0.351788  0.586448  0.186975   \n",
       "OBP     0.726429  0.243492  0.537595  0.506127  0.496110  0.567023  0.107901   \n",
       "SLG     0.445555  0.233884  0.575732  0.380213  0.847711  0.611347  0.098401   \n",
       "\n",
       "          salary        BA       OBP       SLG  \n",
       "yearID  0.360808 -0.339005 -0.410184 -0.378158  \n",
       "Rank   -0.308308 -0.351519 -0.461332 -0.420698  \n",
       "R       0.133647  0.811295  0.898274  0.915136  \n",
       "RA     -0.313821  0.219393  0.156759  0.224955  \n",
       "G       0.057450  0.082268  0.060409  0.088257  \n",
       "W       0.359079  0.406908  0.526369  0.491474  \n",
       "H       0.159304  0.984048  0.809390  0.756042  \n",
       "BB      0.085966  0.254640  0.726429  0.445555  \n",
       "HBP    -0.030119  0.091199  0.243492  0.233884  \n",
       "AB      0.124605  0.718483  0.537595  0.575732  \n",
       "SF     -0.013011  0.528170  0.506127  0.380213  \n",
       "HR      0.138873  0.351788  0.496110  0.847711  \n",
       "2B     -0.022469  0.586448  0.567023  0.611347  \n",
       "3B     -0.178498  0.186975  0.107901  0.098401  \n",
       "salary  1.000000  0.159053  0.151975  0.129116  \n",
       "BA      0.159053  1.000000  0.839978  0.761572  \n",
       "OBP     0.151975  0.839978  1.000000  0.790667  \n",
       "SLG     0.129116  0.761572  0.790667  1.000000  "
      ]
     },
     "execution_count": 6,
     "metadata": {},
     "output_type": "execute_result"
    }
   ],
   "source": [
    "# correlation analysis\n",
    "teams.corr()"
   ]
  },
  {
   "cell_type": "code",
   "execution_count": 7,
   "metadata": {
    "ExecuteTime": {
     "end_time": "2019-05-06T17:15:21.196703Z",
     "start_time": "2019-05-06T17:15:19.851689Z"
    }
   },
   "outputs": [
    {
     "data": {
      "text/plain": [
       "<AxesSubplot:>"
      ]
     },
     "execution_count": 7,
     "metadata": {},
     "output_type": "execute_result"
    },
    {
     "data": {
      "image/png": "[encoded data removed]",
      "text/plain": [
       "<Figure size 864x576 with 2 Axes>"
      ]
     },
     "metadata": {
      "needs_background": "light"
     },
     "output_type": "display_data"
    }
   ],
   "source": [
    "# correlation heatmap\n",
    "plt.figure(figsize=(12,8))\n",
    "sns.heatmap(teams.corr(), annot=True)"
   ]
  },
  {
   "cell_type": "code",
   "execution_count": 8,
   "metadata": {
    "ExecuteTime": {
     "end_time": "2019-05-06T17:15:21.522686Z",
     "start_time": "2019-05-06T17:15:21.199704Z"
    }
   },
   "outputs": [
    {
     "data": {
      "image/png": "[encoded data removed]",
      "text/plain": [
       "<Figure size 360x360 with 1 Axes>"
      ]
     },
     "metadata": {
      "needs_background": "light"
     },
     "output_type": "display_data"
    }
   ],
   "source": [
    "sns.lmplot(x='BA', y='R', data=teams);"
   ]
  },
  {
   "cell_type": "code",
   "execution_count": 9,
   "metadata": {
    "ExecuteTime": {
     "end_time": "2019-05-06T17:15:21.784685Z",
     "start_time": "2019-05-06T17:15:21.524688Z"
    }
   },
   "outputs": [
    {
     "data": {
      "image/png": "[encoded data removed]",
      "text/plain": [
       "<Figure size 360x360 with 1 Axes>"
      ]
     },
     "metadata": {
      "needs_background": "light"
     },
     "output_type": "display_data"
    }
   ],
   "source": [
    "# choose another variable for lmplot with R\n",
    "sns.lmplot(x='salary', y='R', data=teams);"
   ]
  },
  {
   "cell_type": "markdown",
   "metadata": {},
   "source": [
    "# Model Development: Regression\n",
    "- We use **scikit**, the python package for statistical analysis and data mining (predictive analytics)"
   ]
  },
  {
   "cell_type": "code",
   "execution_count": 10,
   "metadata": {
    "ExecuteTime": {
     "end_time": "2019-05-06T17:15:21.789688Z",
     "start_time": "2019-05-06T17:15:21.786683Z"
    }
   },
   "outputs": [],
   "source": [
    "#assigning columns to X and Y variables\n",
    "X = teams['BA']\n",
    "y = teams['R']"
   ]
  },
  {
   "cell_type": "code",
   "execution_count": 11,
   "metadata": {
    "ExecuteTime": {
     "end_time": "2019-05-06T17:15:21.964584Z",
     "start_time": "2019-05-06T17:15:21.791689Z"
    }
   },
   "outputs": [],
   "source": [
    "# We create the model and call it lr.\n",
    "model1 = lm.LinearRegression()\n",
    "# We train the model on our training dataset.\n",
    "model1.fit(X[:,np.newaxis], y)    ## X needs to be 2d for LinearRegression so add [:,np.newaxis]\n",
    "# Now, we predict points with our trained model.\n",
    "model1_y = model1.predict(X[:,np.newaxis])"
   ]
  },
  {
   "cell_type": "code",
   "execution_count": 12,
   "metadata": {
    "ExecuteTime": {
     "end_time": "2019-05-06T17:15:21.984584Z",
     "start_time": "2019-05-06T17:15:21.966584Z"
    }
   },
   "outputs": [
    {
     "name": "stdout",
     "output_type": "stream",
     "text": [
      "Coefficients:  [5761.59422]\n",
      "y-intercept  -762.6742588554711\n"
     ]
    }
   ],
   "source": [
    "# The coefficients\n",
    "print('Coefficients: ', model1.coef_)\n",
    "# y-intercept\n",
    "print(\"y-intercept \", model1.intercept_)"
   ]
  },
  {
   "cell_type": "markdown",
   "metadata": {},
   "source": [
    "**Linear Regression Model: y = 5761x - 762**\n",
    "\n",
    "One unit increase in BA increases R by about 5000"
   ]
  },
  {
   "cell_type": "code",
   "execution_count": 13,
   "metadata": {
    "ExecuteTime": {
     "end_time": "2019-05-06T17:15:22.194586Z",
     "start_time": "2019-05-06T17:15:21.986583Z"
    }
   },
   "outputs": [
    {
     "data": {
      "image/png": "[encoded data removed]",
      "text/plain": [
       "<Figure size 432x288 with 1 Axes>"
      ]
     },
     "metadata": {
      "needs_background": "light"
     },
     "output_type": "display_data"
    }
   ],
   "source": [
    "# try to evaluate the performance of our model's prediction using visualization\n",
    "\n",
    "plt.subplots()\n",
    "plt.scatter(y, model1_y)\n",
    "plt.plot([y.min(), y.max()], [y.min(), y.max()], 'k--', lw=4)   #dotted line represents perfect prediction (actual = predicted)\n",
    "plt.xlabel('Actual')\n",
    "plt.ylabel('Predicted')\n",
    "plt.show()"
   ]
  },
  {
   "cell_type": "code",
   "execution_count": 14,
   "metadata": {
    "ExecuteTime": {
     "end_time": "2019-05-06T17:15:22.202584Z",
     "start_time": "2019-05-06T17:15:22.195584Z"
    }
   },
   "outputs": [
    {
     "name": "stdout",
     "output_type": "stream",
     "text": [
      "Coefficients:  [1.53651252]\n",
      "y-intercept  662.386393029709\n"
     ]
    }
   ],
   "source": [
    "# Let's build 2nd model\n",
    "X = teams['HBP']\n",
    "y = teams['R'] \n",
    "model2 = lm.LinearRegression()\n",
    "model2.fit(X[:,np.newaxis], y)\n",
    "model2_y = model2.predict(X[:,np.newaxis])\n",
    "print('Coefficients: ', model2.coef_)\n",
    "print(\"y-intercept \", model2.intercept_)"
   ]
  },
  {
   "cell_type": "code",
   "execution_count": 15,
   "metadata": {
    "ExecuteTime": {
     "end_time": "2019-05-06T17:15:22.226584Z",
     "start_time": "2019-05-06T17:15:22.205584Z"
    }
   },
   "outputs": [
    {
     "name": "stdout",
     "output_type": "stream",
     "text": [
      "Coefficients:  [3.09953161e-07]\n",
      "y-intercept  662.386393029709\n"
     ]
    }
   ],
   "source": [
    "# Choose a different variable as X and develop another (3rd) linear regression model (model3).\n",
    "X = teams['salary']\n",
    "y = teams['R'] \n",
    "model3 = lm.LinearRegression()\n",
    "model3.fit(X[:,np.newaxis], y)\n",
    "model3_y = model2.predict(X[:,np.newaxis])\n",
    "print('Coefficients: ', model3.coef_)\n",
    "print(\"y-intercept \", model2.intercept_)"
   ]
  },
  {
   "cell_type": "code",
   "execution_count": 16,
   "metadata": {
    "ExecuteTime": {
     "end_time": "2019-05-06T17:15:22.245585Z",
     "start_time": "2019-05-06T17:15:22.228584Z"
    }
   },
   "outputs": [
    {
     "name": "stdout",
     "output_type": "stream",
     "text": [
      "0.0000003100\n"
     ]
    }
   ],
   "source": [
    "print(\"%.10f\" % model3.coef_)"
   ]
  },
  {
   "cell_type": "markdown",
   "metadata": {},
   "source": [
    "# Model Evaluation\n",
    "- Which model is better? **The goal of regression model is to minimize Sum of Squared Error (SSE)**"
   ]
  },
  {
   "cell_type": "markdown",
   "metadata": {},
   "source": [
    "* **Sum of Squared Error ($SSE$)**: Sum of squared residuals or errors \n",
    "    - A low $SSE$ means the regression model fits well with the dataset \n",
    "\n",
    "* Mean Squared Error ($MSE$) \n",
    "    \n",
    "    $= SSE  /  n$          \n",
    "    \n",
    "    (where n is the number of samples)\n",
    "\n",
    "    \n",
    "* **R-square** or **coefficient of determination**): \n",
    "    * A high $R-square$ means that the regression model fits well with the dataset (for the formular, see https://en.wikipedia.org/wiki/Coefficient_of_determination)\n"
   ]
  },
  {
   "cell_type": "markdown",
   "metadata": {},
   "source": [
    "How is our R2 doing^^\n",
    "![](https://files.training.databricks.com/images/r2d2.jpg)"
   ]
  },
  {
   "cell_type": "markdown",
   "metadata": {},
   "source": [
    "### Low R sqaure\n",
    "<img src=\"images/low_r_square.png\">\n",
    "\n",
    "### High R square\n",
    "<img src=\"images/high_r_square.png\">"
   ]
  },
  {
   "cell_type": "code",
   "execution_count": 17,
   "metadata": {
    "ExecuteTime": {
     "end_time": "2019-05-06T17:15:22.269586Z",
     "start_time": "2019-05-06T17:15:22.250596Z"
    }
   },
   "outputs": [
    {
     "name": "stdout",
     "output_type": "stream",
     "text": [
      "mean square error:  2394.377962621043\n",
      "0.6582001186594721\n"
     ]
    }
   ],
   "source": [
    "print(\"mean square error: \", mean_squared_error(y, model1_y))\n",
    "print(explained_variance_score(y, model1_y))"
   ]
  },
  {
   "cell_type": "code",
   "execution_count": 18,
   "metadata": {
    "ExecuteTime": {
     "end_time": "2019-05-06T17:15:22.289586Z",
     "start_time": "2019-05-06T17:15:22.277583Z"
    }
   },
   "outputs": [
    {
     "name": "stdout",
     "output_type": "stream",
     "text": [
      "mean square error:  6575.322571074178\n",
      "0.06136603758721215\n"
     ]
    }
   ],
   "source": [
    "print(\"mean square error: \", mean_squared_error(y, model2_y))\n",
    "print(explained_variance_score(y, model2_y))"
   ]
  },
  {
   "cell_type": "code",
   "execution_count": 19,
   "metadata": {
    "ExecuteTime": {
     "end_time": "2019-05-06T17:15:22.360584Z",
     "start_time": "2019-05-06T17:15:22.292585Z"
    }
   },
   "outputs": [
    {
     "name": "stdout",
     "output_type": "stream",
     "text": [
      "mean square error:  1.823781709958278e+16\n",
      "-438930582810.6707\n"
     ]
    }
   ],
   "source": [
    "# evaluate your model (3rd)\n",
    "print(\"mean square error: \", mean_squared_error(y, model3_y))\n",
    "print(explained_variance_score(y, model3_y))"
   ]
  },
  {
   "cell_type": "markdown",
   "metadata": {},
   "source": [
    "# Appendix "
   ]
  },
  {
   "cell_type": "code",
   "execution_count": 20,
   "metadata": {
    "ExecuteTime": {
     "end_time": "2019-05-06T17:15:24.981495Z",
     "start_time": "2019-05-06T17:14:57.823Z"
    }
   },
   "outputs": [
    {
     "data": {
      "text/html": [
       "<div>\n",
       "<style scoped>\n",
       "    .dataframe tbody tr th:only-of-type {\n",
       "        vertical-align: middle;\n",
       "    }\n",
       "\n",
       "    .dataframe tbody tr th {\n",
       "        vertical-align: top;\n",
       "    }\n",
       "\n",
       "    .dataframe thead th {\n",
       "        text-align: right;\n",
       "    }\n",
       "</style>\n",
       "<table border=\"1\" class=\"dataframe\">\n",
       "  <thead>\n",
       "    <tr style=\"text-align: right;\">\n",
       "      <th></th>\n",
       "      <th>yearID</th>\n",
       "      <th>teamID</th>\n",
       "      <th>Rank</th>\n",
       "      <th>R</th>\n",
       "      <th>RA</th>\n",
       "      <th>G</th>\n",
       "      <th>W</th>\n",
       "      <th>H</th>\n",
       "      <th>BB</th>\n",
       "      <th>HBP</th>\n",
       "      <th>AB</th>\n",
       "      <th>SF</th>\n",
       "      <th>HR</th>\n",
       "      <th>2B</th>\n",
       "      <th>3B</th>\n",
       "      <th>salary</th>\n",
       "      <th>BA</th>\n",
       "      <th>OBP</th>\n",
       "      <th>SLG</th>\n",
       "    </tr>\n",
       "  </thead>\n",
       "  <tbody>\n",
       "    <tr>\n",
       "      <th>0</th>\n",
       "      <td>2000</td>\n",
       "      <td>CHA</td>\n",
       "      <td>1</td>\n",
       "      <td>978</td>\n",
       "      <td>839</td>\n",
       "      <td>162</td>\n",
       "      <td>95</td>\n",
       "      <td>1615</td>\n",
       "      <td>591</td>\n",
       "      <td>53</td>\n",
       "      <td>5646</td>\n",
       "      <td>61</td>\n",
       "      <td>216</td>\n",
       "      <td>325</td>\n",
       "      <td>33</td>\n",
       "      <td>31133500</td>\n",
       "      <td>0.286043</td>\n",
       "      <td>0.355692</td>\n",
       "      <td>0.470067</td>\n",
       "    </tr>\n",
       "    <tr>\n",
       "      <th>1</th>\n",
       "      <td>2000</td>\n",
       "      <td>CLE</td>\n",
       "      <td>2</td>\n",
       "      <td>950</td>\n",
       "      <td>816</td>\n",
       "      <td>162</td>\n",
       "      <td>90</td>\n",
       "      <td>1639</td>\n",
       "      <td>685</td>\n",
       "      <td>51</td>\n",
       "      <td>5683</td>\n",
       "      <td>52</td>\n",
       "      <td>221</td>\n",
       "      <td>310</td>\n",
       "      <td>30</td>\n",
       "      <td>75880771</td>\n",
       "      <td>0.288404</td>\n",
       "      <td>0.367022</td>\n",
       "      <td>0.470174</td>\n",
       "    </tr>\n",
       "    <tr>\n",
       "      <th>2</th>\n",
       "      <td>2000</td>\n",
       "      <td>DET</td>\n",
       "      <td>3</td>\n",
       "      <td>823</td>\n",
       "      <td>827</td>\n",
       "      <td>162</td>\n",
       "      <td>79</td>\n",
       "      <td>1553</td>\n",
       "      <td>562</td>\n",
       "      <td>43</td>\n",
       "      <td>5644</td>\n",
       "      <td>49</td>\n",
       "      <td>177</td>\n",
       "      <td>307</td>\n",
       "      <td>41</td>\n",
       "      <td>58265167</td>\n",
       "      <td>0.275159</td>\n",
       "      <td>0.342648</td>\n",
       "      <td>0.438164</td>\n",
       "    </tr>\n",
       "    <tr>\n",
       "      <th>3</th>\n",
       "      <td>2000</td>\n",
       "      <td>KCA</td>\n",
       "      <td>4</td>\n",
       "      <td>879</td>\n",
       "      <td>930</td>\n",
       "      <td>162</td>\n",
       "      <td>77</td>\n",
       "      <td>1644</td>\n",
       "      <td>511</td>\n",
       "      <td>48</td>\n",
       "      <td>5709</td>\n",
       "      <td>70</td>\n",
       "      <td>150</td>\n",
       "      <td>281</td>\n",
       "      <td>27</td>\n",
       "      <td>23433000</td>\n",
       "      <td>0.287966</td>\n",
       "      <td>0.347586</td>\n",
       "      <td>0.425469</td>\n",
       "    </tr>\n",
       "    <tr>\n",
       "      <th>4</th>\n",
       "      <td>2000</td>\n",
       "      <td>MIN</td>\n",
       "      <td>5</td>\n",
       "      <td>748</td>\n",
       "      <td>880</td>\n",
       "      <td>162</td>\n",
       "      <td>69</td>\n",
       "      <td>1516</td>\n",
       "      <td>556</td>\n",
       "      <td>35</td>\n",
       "      <td>5615</td>\n",
       "      <td>51</td>\n",
       "      <td>116</td>\n",
       "      <td>325</td>\n",
       "      <td>49</td>\n",
       "      <td>16519500</td>\n",
       "      <td>0.269991</td>\n",
       "      <td>0.336743</td>\n",
       "      <td>0.407302</td>\n",
       "    </tr>\n",
       "  </tbody>\n",
       "</table>\n",
       "</div>"
      ],
      "text/plain": [
       "   yearID teamID  Rank    R   RA    G   W     H   BB  HBP    AB  SF   HR   2B  \\\n",
       "0    2000    CHA     1  978  839  162  95  1615  591   53  5646  61  216  325   \n",
       "1    2000    CLE     2  950  816  162  90  1639  685   51  5683  52  221  310   \n",
       "2    2000    DET     3  823  827  162  79  1553  562   43  5644  49  177  307   \n",
       "3    2000    KCA     4  879  930  162  77  1644  511   48  5709  70  150  281   \n",
       "4    2000    MIN     5  748  880  162  69  1516  556   35  5615  51  116  325   \n",
       "\n",
       "   3B    salary        BA       OBP       SLG  \n",
       "0  33  31133500  0.286043  0.355692  0.470067  \n",
       "1  30  75880771  0.288404  0.367022  0.470174  \n",
       "2  41  58265167  0.275159  0.342648  0.438164  \n",
       "3  27  23433000  0.287966  0.347586  0.425469  \n",
       "4  49  16519500  0.269991  0.336743  0.407302  "
      ]
     },
     "execution_count": 20,
     "metadata": {},
     "output_type": "execute_result"
    }
   ],
   "source": [
    "teams.head()"
   ]
  },
  {
   "cell_type": "code",
   "execution_count": 21,
   "metadata": {
    "ExecuteTime": {
     "end_time": "2019-05-06T17:15:24.984490Z",
     "start_time": "2019-05-06T17:14:57.825Z"
    }
   },
   "outputs": [
    {
     "name": "stdout",
     "output_type": "stream",
     "text": [
      "[885.39068112 898.99262971 822.68290122 896.47110833 792.90487355\n",
      " 835.34890187 775.45649042 822.6014438  803.10049273 717.23386387\n",
      " 792.74893024 789.61262947 848.68844441 870.52552028 794.99661457\n",
      " 817.03524829 652.09074452 837.53871675 774.97608869 710.52519608\n",
      " 801.32198654 754.91663749 744.3973089  772.70992693 686.34943726\n",
      " 839.79849467 717.40686726 765.55029916 931.19372464 701.5582311\n",
      " 841.31241692 806.22028077 780.00735475 734.69508959 771.91303507\n",
      " 774.57734604 772.03763531 752.24959553 668.24798895 724.65980405\n",
      " 897.84153808 756.03772849 739.22212397 824.42451592 800.71057193\n",
      " 790.31324509 739.00651359 684.02341254 748.15753846 660.11290023\n",
      " 737.98105353 737.20591745 673.76643237 756.21588275 695.13011838\n",
      " 775.81041939 770.12334563 704.73340534 686.65781507 921.25037686\n",
      " 804.1655868  781.91888463 670.55284558 710.25362334 665.46785265\n",
      " 821.48126889 830.95818681 741.47244711 657.00102286 695.20236301\n",
      " 740.44046493 863.92587338 821.27272223 785.92084188 781.07714452\n",
      " 746.04049252 697.21049177 642.59262393 653.61281943 693.95039163\n",
      " 734.60627462 743.18500609 727.01550099 739.57547102 714.41567224\n",
      " 776.0521586  772.84248393 756.04629022 813.61095423 692.61146051\n",
      " 833.86299249 754.64005792 816.38335271 698.4048184  620.27700733\n",
      " 797.73609129 902.18578013 845.40185246 779.17513856 766.88939736\n",
      " 702.61748291 800.75779971 784.04130038 769.27505459 731.22705352\n",
      " 750.22152012 842.28322827 777.60500619 648.17900231 715.11027276\n",
      " 871.3016704  768.50351375 742.4291944  725.14591552 658.03714187\n",
      " 757.98110846 639.19403235 754.78690943 774.30774376 739.44450423\n",
      " 768.14945802 779.23413152 825.92598161 806.06142786 727.14208898\n",
      " 783.27186252 862.05502036 858.52746125 725.27347145 735.27773657\n",
      " 864.78574522 791.3870334  768.27829303 792.00967737 838.74815028\n",
      " 773.61037192 781.12177383 678.24637148 737.88319862 664.32646355\n",
      " 792.02522215 773.95507082 757.01710732 670.43377647 669.830261\n",
      " 744.78002279 795.63647418 809.7974472  819.00060874 693.31302679\n",
      " 748.32440575 800.73212605 729.49994651 801.6571961  750.22845708\n",
      " 827.29626733 854.38178103 765.21670285 785.92934023 813.66969369\n",
      " 794.51336661 748.63070939 777.51397876 710.41901566 791.64530839\n",
      " 714.1166455  731.65992209 791.22274731 741.65573495 731.22554974\n",
      " 763.31852259 790.52346262 807.0512467  724.56014576 688.87371268\n",
      " 720.13516073 710.42523818 742.59761156 694.42687547 772.84985877\n",
      " 891.13572228 818.13890471 852.64984004 853.32013239 799.11054264\n",
      " 876.79548301 875.40587291 785.64524178 835.372196   705.61655979\n",
      " 734.29267681 818.19461356 836.80701157 802.20318205 785.71506078\n",
      " 705.64000948 719.77400672 721.99938792 752.88003493 780.07586587\n",
      " 760.13644596 775.23677202 795.6290302  759.92806638 744.042919\n",
      " 751.08749349 826.16622281 730.37044273 774.43130115 795.29728336\n",
      " 783.62083652 890.64407392 760.67372614 657.34004659 743.83583002\n",
      " 846.53106731 906.24300835 729.76181673 801.78632495 782.54142489\n",
      " 874.3073155  888.56377543 714.65759006 751.62413414 799.48047156\n",
      " 746.70989758 813.9746952  735.03185478 774.57292114 750.92106408\n",
      " 815.48393328 823.43455304 819.25757008 714.25614522 777.30045408\n",
      " 678.25797533 848.06135826 682.85757699 822.20040227 701.13272584\n",
      " 750.09440207 842.93221424 749.70524671 785.60007665 799.01295276\n",
      " 737.77339415 848.63649212 800.7734194  758.60439196 777.48206529\n",
      " 782.76419116 865.82103456 630.42447111 766.80795723 837.53945423\n",
      " 692.55767027 750.92011342 857.64632912 661.6466539  725.83995716\n",
      " 708.83836838 769.70836105 701.03680106 793.90204994 681.13445701\n",
      " 759.86834746 680.65355979 753.15275999 746.5869394  675.65476031\n",
      " 818.47651108 738.04423517 724.39289244 756.36674433 728.7579396\n",
      " 870.11675246 791.28269093 749.98156701 770.78375108 783.8697201\n",
      " 881.15305162 734.54783477 723.71934479 747.886974   751.25974211\n",
      " 705.55555027 750.39776153 660.31926325 737.07846523 688.0945262\n",
      " 723.68896966 781.12691893 754.9581613  792.62863967 722.56466369\n",
      " 794.15135989 740.16469198 717.32017831 633.91493707 695.06602064\n",
      " 811.20950448 778.58371091 784.16523227 667.48636381 814.46448832\n",
      " 659.98083297 774.23384556 779.2614242  667.50126906 731.14923166\n",
      " 828.28236994 713.68138011 668.2756158  594.37344435 801.90993995\n",
      " 751.01776092 749.15326294 661.87251415 715.35444912 631.19080923\n",
      " 735.27829544 725.44755226 698.81854119 672.1893688  678.25600487\n",
      " 718.66856997 655.9884342  750.13492912 689.93556297 675.35565291\n",
      " 832.30238979 680.60038603 689.76688654 821.96731122 662.23613989\n",
      " 753.42483399 640.62793759 851.78296786 671.76473931 716.66792552\n",
      " 865.31463652 694.18450249 642.85037461 579.67834849 741.45406763\n",
      " 813.11967462 713.65726207 645.5737304  714.84395459 721.46630218\n",
      " 692.44068109 639.16080523 634.04376632 756.94621667 657.84951556\n",
      " 679.58424823 630.98879622 715.88055181 722.41198721 603.00544753\n",
      " 780.83537074 708.52658547 762.57389415 681.63488027 737.28770328\n",
      " 762.20820577 662.18042527 617.4186113  650.68564725 737.35535592\n",
      " 608.14108487 810.16881652 817.18484808 584.91375936 685.87699806\n",
      " 801.21631314 732.41641365 635.14045121 618.3620954  597.00656781\n",
      " 743.65171251 661.5281091  706.82325656 671.90984506 643.5489391\n",
      " 787.08884955 687.78960535 730.9942563  660.1908546  813.83511482\n",
      " 869.86115662 703.81751928 735.61019784 631.12621024 671.76902593\n",
      " 833.97351139 715.69796689 734.11000546 634.10789863 692.0320285\n",
      " 701.46569414 748.64812669 759.17847145 603.60518916 617.27876588\n",
      " 786.33091759 649.89304202 672.74747139 690.8810233  606.98809768\n",
      " 671.10603353 684.08367305 603.35941107 668.22020078 566.43639007\n",
      " 755.63330491 727.46321719 646.13317543 737.91386182 792.20498389]\n"
     ]
    }
   ],
   "source": [
    "# print the predicted y value (model 1)\n",
    "print(model1_y)"
   ]
  },
  {
   "cell_type": "markdown",
   "metadata": {},
   "source": [
    "# Regression using Statsmodels\n",
    "- http://statsmodels.sourceforge.net/\n",
    "- Statsmodels is a Python module that allows users to explore data, estimate statistical models, and perform statistical tests. An extensive list of descriptive statistics, statistical tests, plotting functions, and result statistics are available for different types of data and each estimator.\n",
    "- This package is an **alternative to scikit python package**"
   ]
  },
  {
   "cell_type": "code",
   "execution_count": 22,
   "metadata": {
    "ExecuteTime": {
     "end_time": "2019-05-06T17:15:24.986490Z",
     "start_time": "2019-05-06T17:14:57.829Z"
    }
   },
   "outputs": [
    {
     "name": "stdout",
     "output_type": "stream",
     "text": [
      "                            OLS Regression Results                            \n",
      "==============================================================================\n",
      "Dep. Variable:                      R   R-squared:                       0.658\n",
      "Model:                            OLS   Adj. R-squared:                  0.657\n",
      "Method:                 Least Squares   F-statistic:                     804.9\n",
      "Date:                Fri, 19 Mar 2021   Prob (F-statistic):           1.74e-99\n",
      "Time:                        12:52:23   Log-Likelihood:                -2229.9\n",
      "No. Observations:                 420   AIC:                             4464.\n",
      "Df Residuals:                     418   BIC:                             4472.\n",
      "Df Model:                           1                                         \n",
      "Covariance Type:            nonrobust                                         \n",
      "==============================================================================\n",
      "                 coef    std err          t      P>|t|      [0.025      0.975]\n",
      "------------------------------------------------------------------------------\n",
      "Intercept   -762.6743     53.334    -14.300      0.000    -867.511    -657.837\n",
      "BA          5761.5942    203.077     28.371      0.000    5362.414    6160.774\n",
      "==============================================================================\n",
      "Omnibus:                        0.685   Durbin-Watson:                   1.824\n",
      "Prob(Omnibus):                  0.710   Jarque-Bera (JB):                0.691\n",
      "Skew:                           0.097   Prob(JB):                        0.708\n",
      "Kurtosis:                       2.962   Cond. No.                         90.7\n",
      "==============================================================================\n",
      "\n",
      "Notes:\n",
      "[1] Standard Errors assume that the covariance matrix of the errors is correctly specified.\n"
     ]
    }
   ],
   "source": [
    "runs_reg_model1 = ols(\"R~BA\",teams)\n",
    "runs_reg1 = runs_reg_model1.fit()\n",
    "print(runs_reg1.summary())"
   ]
  },
  {
   "cell_type": "code",
   "execution_count": 23,
   "metadata": {
    "ExecuteTime": {
     "end_time": "2019-05-06T17:15:24.988490Z",
     "start_time": "2019-05-06T17:14:57.831Z"
    }
   },
   "outputs": [
    {
     "name": "stdout",
     "output_type": "stream",
     "text": [
      "                            OLS Regression Results                            \n",
      "==============================================================================\n",
      "Dep. Variable:                      R   R-squared:                       0.061\n",
      "Model:                            OLS   Adj. R-squared:                  0.059\n",
      "Method:                 Least Squares   F-statistic:                     27.33\n",
      "Date:                Fri, 19 Mar 2021   Prob (F-statistic):           2.72e-07\n",
      "Time:                        12:52:23   Log-Likelihood:                -2442.1\n",
      "No. Observations:                 420   AIC:                             4888.\n",
      "Df Residuals:                     418   BIC:                             4896.\n",
      "Df Model:                           1                                         \n",
      "Covariance Type:            nonrobust                                         \n",
      "==============================================================================\n",
      "                 coef    std err          t      P>|t|      [0.025      0.975]\n",
      "------------------------------------------------------------------------------\n",
      "Intercept    662.3864     17.032     38.890      0.000     628.907     695.866\n",
      "HBP            1.5365      0.294      5.228      0.000       0.959       2.114\n",
      "==============================================================================\n",
      "Omnibus:                        1.664   Durbin-Watson:                   1.384\n",
      "Prob(Omnibus):                  0.435   Jarque-Bera (JB):                1.659\n",
      "Skew:                           0.152   Prob(JB):                        0.436\n",
      "Kurtosis:                       2.957   Cond. No.                         249.\n",
      "==============================================================================\n",
      "\n",
      "Notes:\n",
      "[1] Standard Errors assume that the covariance matrix of the errors is correctly specified.\n"
     ]
    }
   ],
   "source": [
    "runs_reg_model2 = ols(\"R~HBP\",teams)\n",
    "runs_reg2 = runs_reg_model2.fit()\n",
    "print(runs_reg2.summary())"
   ]
  },
  {
   "cell_type": "code",
   "execution_count": 24,
   "metadata": {
    "ExecuteTime": {
     "end_time": "2019-05-06T17:15:24.990489Z",
     "start_time": "2019-05-06T17:14:57.834Z"
    }
   },
   "outputs": [
    {
     "data": {
      "text/plain": [
       "6606.783444619986"
      ]
     },
     "execution_count": 24,
     "metadata": {},
     "output_type": "execute_result"
    }
   ],
   "source": [
    "runs_reg2.mse_resid"
   ]
  },
  {
   "cell_type": "markdown",
   "metadata": {},
   "source": [
    "- The first model has a R-squared of 0.658.\n",
    "\n",
    "- The second model has a R-squared of 0.061.\n",
    "\n",
    "- Based on this analysis, we could confirm that the first model using **BA** is a better model."
   ]
  },
  {
   "cell_type": "code",
   "execution_count": 25,
   "metadata": {
    "ExecuteTime": {
     "end_time": "2019-05-06T17:15:24.992488Z",
     "start_time": "2019-05-06T17:14:57.836Z"
    }
   },
   "outputs": [
    {
     "name": "stdout",
     "output_type": "stream",
     "text": [
      "                            OLS Regression Results                            \n",
      "==============================================================================\n",
      "Dep. Variable:                      R   R-squared:                       0.018\n",
      "Model:                            OLS   Adj. R-squared:                  0.016\n",
      "Method:                 Least Squares   F-statistic:                     7.602\n",
      "Date:                Fri, 19 Mar 2021   Prob (F-statistic):            0.00609\n",
      "Time:                        12:52:23   Log-Likelihood:                -2451.6\n",
      "No. Observations:                 420   AIC:                             4907.\n",
      "Df Residuals:                     418   BIC:                             4915.\n",
      "Df Model:                           1                                         \n",
      "Covariance Type:            nonrobust                                         \n",
      "==============================================================================\n",
      "                 coef    std err          t      P>|t|      [0.025      0.975]\n",
      "------------------------------------------------------------------------------\n",
      "Intercept    724.1361      9.881     73.288      0.000     704.714     743.558\n",
      "salary        3.1e-07   1.12e-07      2.757      0.006     8.9e-08    5.31e-07\n",
      "==============================================================================\n",
      "Omnibus:                        0.812   Durbin-Watson:                   1.231\n",
      "Prob(Omnibus):                  0.666   Jarque-Bera (JB):                0.885\n",
      "Skew:                           0.102   Prob(JB):                        0.643\n",
      "Kurtosis:                       2.904   Cond. No.                     2.14e+08\n",
      "==============================================================================\n",
      "\n",
      "Notes:\n",
      "[1] Standard Errors assume that the covariance matrix of the errors is correctly specified.\n",
      "[2] The condition number is large, 2.14e+08. This might indicate that there are\n",
      "strong multicollinearity or other numerical problems.\n"
     ]
    }
   ],
   "source": [
    "# Develop the 3rd model\n",
    "\n",
    "runs_reg_model3 = ols(\"R~salary\",teams)\n",
    "runs_reg3 = runs_reg_model3.fit()\n",
    "print(runs_reg3.summary())"
   ]
  },
  {
   "cell_type": "markdown",
   "metadata": {},
   "source": [
    "# References\n",
    "\n",
    "- http://adilmoujahid.com/posts/2014/07/baseball-analytics/ (reproduced from this page)"
   ]
  }
 ],
 "metadata": {
  "kernelspec": {
   "display_name": "Python 3",
   "language": "python",
   "name": "python3"
  },
  "language_info": {
   "codemirror_mode": {
    "name": "ipython",
    "version": 3
   },
   "file_extension": ".py",
   "mimetype": "text/x-python",
   "name": "python",
   "nbconvert_exporter": "python",
   "pygments_lexer": "ipython3",
   "version": "3.8.5"
  },
  "toc": {
   "base_numbering": 1,
   "nav_menu": {},
   "number_sections": false,
   "sideBar": true,
   "skip_h1_title": false,
   "title_cell": "Table of Contents",
   "title_sidebar": "Contents",
   "toc_cell": false,
   "toc_position": {
    "height": "calc(100% - 180px)",
    "left": "10px",
    "top": "150px",
    "width": "252.797px"
   },
   "toc_section_display": true,
   "toc_window_display": false
  }
 },
 "nbformat": 4,
 "nbformat_minor": 1
}
